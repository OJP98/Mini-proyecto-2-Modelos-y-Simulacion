{
  "nbformat": 4,
  "nbformat_minor": 0,
  "metadata": {
    "colab": {
      "name": "Simulacion-Miniproyecto2",
      "provenance": [],
      "collapsed_sections": []
    },
    "kernelspec": {
      "name": "python3",
      "display_name": "Python 3"
    }
  },
  "cells": [
    {
      "cell_type": "markdown",
      "metadata": {
        "id": "K6BwVRUPVyG2",
        "colab_type": "text"
      },
      "source": [
        "# Miniproyecto 2\n",
        "\n",
        "Modelos y simulación - Sección 10\n",
        "\n",
        "Fecha: 14-08-2020\n",
        "\n",
        "## Integrantes:\n",
        "\n",
        "* Oscar Juárez - 17315\n",
        "* José Cifuentes - 17509"
      ]
    },
    {
      "cell_type": "markdown",
      "metadata": {
        "id": "LELJXcGhFRey",
        "colab_type": "text"
      },
      "source": [
        "## Librerías de python:\n",
        "\n"
      ]
    },
    {
      "cell_type": "code",
      "metadata": {
        "id": "izY-KzF4Zj7K",
        "colab_type": "code",
        "colab": {}
      },
      "source": [
        "import numpy as np\n",
        "import matplotlib.pyplot as plt\n",
        "import math\n",
        "import random\n",
        "import time"
      ],
      "execution_count": null,
      "outputs": []
    },
    {
      "cell_type": "markdown",
      "metadata": {
        "id": "8f1f7Z0eY6ob",
        "colab_type": "text"
      },
      "source": [
        "## Ejercicio 1 - Función acumulada ponderada"
      ]
    },
    {
      "cell_type": "markdown",
      "metadata": {
        "id": "XNCEK5HHC_HP",
        "colab_type": "text"
      },
      "source": [
        "Funciones útiles:"
      ]
    },
    {
      "cell_type": "markdown",
      "metadata": {
        "id": "78VKP0cyHIhS",
        "colab_type": "text"
      },
      "source": [
        "Random Uniforme de 0 a 1"
      ]
    },
    {
      "cell_type": "code",
      "metadata": {
        "id": "-SqXCMGZHGx0",
        "colab_type": "code",
        "colab": {}
      },
      "source": [
        "def pseudo(a,m):\n",
        "\tdef inner_pseudo(xo,n):\n",
        "\t\titems=list(range(n))\n",
        "\t\titems[0]=xo\n",
        "\n",
        "\t\tfor i in range(1,n):\n",
        "\t\t\titems[i]=(a*items[i-1])%m\n",
        "\n",
        "\t\treturn [i/float(m) for i in items]\n",
        "\treturn inner_pseudo\n",
        "mi_pseudo2=pseudo(m=2**31-1,a=7**5)\n",
        "#mis_randoms2=mi_pseudo2(xo=5,n=CANTIDAD)"
      ],
      "execution_count": null,
      "outputs": []
    },
    {
      "cell_type": "markdown",
      "metadata": {
        "id": "opUnghEUIUMX",
        "colab_type": "text"
      },
      "source": [
        "Definimos una algoritmo Generador de V a partir de F"
      ]
    },
    {
      "cell_type": "code",
      "metadata": {
        "id": "LhH1fHpwFSwF",
        "colab_type": "code",
        "colab": {}
      },
      "source": [
        "'''\n",
        "  F es la funcion de probabilidad acumulada\n",
        "'''\n",
        "def generarV(F,cantidad):\n",
        "  mis_randoms2=mi_pseudo2(xo=int(time.time()),n=cantidad)\n",
        "  resultados=[]\n",
        "  Fprob = [0]\n",
        "  Fprob += list(F.keys())\n",
        "\n",
        "  for numero in mis_randoms2:\n",
        "    for i in range(0, len(Fprob)-1):\n",
        "      if(Fprob[i] <= numero < Fprob[i+1]):\n",
        "        resultados.append(F[Fprob[i+1]])\n",
        "\n",
        "  return resultados"
      ],
      "execution_count": null,
      "outputs": []
    },
    {
      "cell_type": "markdown",
      "metadata": {
        "id": "f04UhiYiJbF4",
        "colab_type": "text"
      },
      "source": [
        "A continuación se demuestra que el algoritmo genera adecuadamente V"
      ]
    },
    {
      "cell_type": "code",
      "metadata": {
        "id": "YtIVFKpLIZHc",
        "colab_type": "code",
        "colab": {}
      },
      "source": [
        "F = {\n",
        "    0.3: 'A',\n",
        "    0.4: 'B',\n",
        "    0.9: 'C',\n",
        "    1: 'D',\n",
        "}\n",
        "ITERACIONES=100000\n",
        "secuenciaV=generarV(F,ITERACIONES)\n",
        "\n",
        "for i in F.values():\n",
        "  print(i+\" sale con probabilidad de: \"+str(secuenciaV.count(i)/ITERACIONES))\n"
      ],
      "execution_count": null,
      "outputs": []
    },
    {
      "cell_type": "markdown",
      "metadata": {
        "id": "-XxiAHiFKo-n",
        "colab_type": "text"
      },
      "source": [
        "Para esta F en particular podemos notar que el elemento A debería de salir con una probabilidad de 0.3, el elemento B con probabilidad de 0.1, C con 0.5 y finalmente C con probabilidad de 0.1.\n",
        "Si nos damos cuenta, nuestros resultados salen con probabilidades aproximadas y mientras aumentemos más las iteraciones más se asemejarán a la probabilidad teórica. \n"
      ]
    },
    {
      "cell_type": "markdown",
      "metadata": {
        "id": "G5fxkJtrZF_b",
        "colab_type": "text"
      },
      "source": [
        "## Ejercicio 2 - función acumulada ponderada (programa)"
      ]
    },
    {
      "cell_type": "markdown",
      "metadata": {
        "id": "6YGXRMNZzjX9",
        "colab_type": "text"
      },
      "source": [
        "Programamos una función que retorne una variable aleatoria con función de masa de probabilidad."
      ]
    },
    {
      "cell_type": "code",
      "metadata": {
        "id": "7z3OzgO8zt4o",
        "colab_type": "code",
        "colab": {}
      },
      "source": [
        "def AcumulacionPonderada(x, fn):\n",
        "  cant = len(fn)-1\n",
        "  contador = 0\n",
        "  ponderacion = float(0)\n",
        "\n",
        "  while contador <= cant:\n",
        "    if contador == cant and ponderacion <= x < 1:\n",
        "      return fn[cant][0]\n",
        "    \n",
        "    elif contador == 0 and 0.0 <= x < fn[0][1]:\n",
        "      return fn[0][0]\n",
        "    \n",
        "    elif ponderacion <= x < (ponderacion + fn[contador+1][1]):\n",
        "      return fn[contador][0]\n",
        "    \n",
        "    elif contador == 0:\n",
        "      ponderacion = fn[0][1]\n",
        "    \n",
        "    else:\n",
        "      ponderacion += fn[contador+1][1]\n",
        "    \n",
        "    contador +=1\n",
        "  "
      ],
      "execution_count": null,
      "outputs": []
    },
    {
      "cell_type": "markdown",
      "metadata": {
        "id": "QORLiaVI7n0v",
        "colab_type": "text"
      },
      "source": [
        "#### Distribución de ejemplo"
      ]
    },
    {
      "cell_type": "code",
      "metadata": {
        "id": "ZY4_pXw15PQy",
        "colab_type": "code",
        "colab": {}
      },
      "source": [
        "pesosMasa = [(1,0.10),\n",
        "             (2,0.15),\n",
        "             (3,0.30),\n",
        "             (4,0.35),\n",
        "             (5,0.07),\n",
        "             (6,0.03)]\n",
        "\n",
        "plt.style.use('classic')\n",
        "plt.hist(\n",
        "    [AcumulacionPonderada(random.random(), pesosMasa) for _ in range(1,1000)],\n",
        "    bins=6,\n",
        "    color='green'\n",
        "    )\n",
        "plt.title('Histograma para la distribución de ejemplo')\n",
        "plt.show()"
      ],
      "execution_count": null,
      "outputs": []
    },
    {
      "cell_type": "markdown",
      "metadata": {
        "id": "DW6C6R9jZKRP",
        "colab_type": "text"
      },
      "source": [
        "## Ejercicio 3 - Valor presente neto"
      ]
    },
    {
      "cell_type": "markdown",
      "metadata": {
        "id": "NLuVgz5ZQkGP",
        "colab_type": "text"
      },
      "source": [
        "**Funciones útiles:**"
      ]
    },
    {
      "cell_type": "markdown",
      "metadata": {
        "id": "sUkvYAubQrOu",
        "colab_type": "text"
      },
      "source": [
        "Uniforme de 0 a 1:"
      ]
    },
    {
      "cell_type": "code",
      "metadata": {
        "id": "fvM2fSS0ZOMD",
        "colab_type": "code",
        "colab": {}
      },
      "source": [
        "def pseudo(a,m):\n",
        "\tdef inner_pseudo(xo,n):\n",
        "\t\titems=list(range(n))\n",
        "\t\titems[0]=xo\n",
        "\n",
        "\t\tfor i in range(1,n):\n",
        "\t\t\titems[i]=(a*items[i-1])%m\n",
        "\n",
        "\t\treturn [i/float(m) for i in items]\n",
        "\treturn inner_pseudo\n",
        "mi_pseudo2=pseudo(m=2**31-1,a=7**5)"
      ],
      "execution_count": null,
      "outputs": []
    },
    {
      "cell_type": "markdown",
      "metadata": {
        "id": "j33DcYkoRd1_",
        "colab_type": "text"
      },
      "source": [
        "Exponencial:"
      ]
    },
    {
      "cell_type": "code",
      "metadata": {
        "id": "N5LQNW-1Rf-s",
        "colab_type": "code",
        "colab": {}
      },
      "source": [
        "def exponencial(Lambda,uniforme):\n",
        "  U=uniforme\n",
        "  return -(1/Lambda)*math.log(U)"
      ],
      "execution_count": null,
      "outputs": []
    },
    {
      "cell_type": "markdown",
      "metadata": {
        "id": "UnNON_hJSZxt",
        "colab_type": "text"
      },
      "source": [
        "Normal:"
      ]
    },
    {
      "cell_type": "code",
      "metadata": {
        "id": "u6uNU1l-SFkQ",
        "colab_type": "code",
        "colab": {}
      },
      "source": [
        "def normal(mu,sigma,uniformesList):\n",
        "  while True:\n",
        "    Y1=exponencial(Lambda=1, uniforme=uniformesList.pop())\n",
        "    Y2=exponencial(Lambda=1, uniforme=uniformesList.pop())\n",
        "    if Y2 - ((Y1-1) ** 2) / 2 > 0:\n",
        "      Y = Y2-((Y1-1) ** 2) / 2\n",
        "      U = uniformesList.pop()\n",
        "      if U<=0.5:\n",
        "        return mu + sigma*Y1\n",
        "      else:\n",
        "        return mu - sigma*Y1\n"
      ],
      "execution_count": null,
      "outputs": []
    },
    {
      "cell_type": "markdown",
      "metadata": {
        "id": "pFMjJtathkBF",
        "colab_type": "text"
      },
      "source": [
        "Uniforme en x intervalo:\n"
      ]
    },
    {
      "cell_type": "code",
      "metadata": {
        "id": "npWwjUXbhjec",
        "colab_type": "code",
        "colab": {}
      },
      "source": [
        "def uniforme(minimo,maximo,cantidad): \n",
        "  return [ minimo + (i * (maximo - minimo)) for i in mi_pseudo2(xo=int(time.time()),n=cantidad)]"
      ],
      "execution_count": null,
      "outputs": []
    },
    {
      "cell_type": "markdown",
      "metadata": {
        "id": "N6FN4n9nAC_Y",
        "colab_type": "text"
      },
      "source": [
        "Valor presente neto:"
      ]
    },
    {
      "cell_type": "code",
      "metadata": {
        "id": "avA92ubdAF0u",
        "colab_type": "code",
        "colab": {}
      },
      "source": [
        "'''\n",
        "  Valor de inversion positivo\n",
        "  flujoDeCaja lista\n",
        "'''\n",
        "def VPN(inversion, flujoDeCaja, interes):\n",
        "  vpn = -inversion\n",
        "  for i in range(len(flujoDeCaja)):\n",
        "    vpn += flujoDeCaja[i] / (1+interes) ** (i+1)\n",
        "  return vpn"
      ],
      "execution_count": null,
      "outputs": []
    },
    {
      "cell_type": "code",
      "metadata": {
        "id": "f4B4KvKFEsyf",
        "colab_type": "code",
        "colab": {}
      },
      "source": [
        ""
      ],
      "execution_count": null,
      "outputs": []
    },
    {
      "cell_type": "markdown",
      "metadata": {
        "id": "bb9Vvmc9Boko",
        "colab_type": "text"
      },
      "source": [
        "### Simulación 100 iteraciones "
      ]
    },
    {
      "cell_type": "markdown",
      "metadata": {
        "id": "ErKyuTgQBtU4",
        "colab_type": "text"
      },
      "source": [
        "#### Proyecto Hotel"
      ]
    },
    {
      "cell_type": "code",
      "metadata": {
        "id": "Zlf5OJ57B8nT",
        "colab_type": "code",
        "colab": {}
      },
      "source": [
        "ITERACIONES=100\n",
        "INVERSION=800\n",
        "INTERES=0.1\n",
        "seed=int(time.time())\n",
        "listaRandom=mi_pseudo2(xo=seed,n=ITERACIONES*100)\n",
        "FLUJO_DE_CAJA=[\n",
        "               sum([normal(-800,50,listaRandom) for _ in range(ITERACIONES)])/ITERACIONES,\n",
        "               sum([normal(-800,100,listaRandom) for _ in range(ITERACIONES)])/ITERACIONES,\n",
        "               sum([normal(-700,150,listaRandom) for _ in range(ITERACIONES)])/ITERACIONES,\n",
        "               sum([normal(300,200,listaRandom) for _ in range(ITERACIONES)])/ITERACIONES,\n",
        "               sum([normal(400,200,listaRandom) for _ in range(ITERACIONES)])/ITERACIONES,\n",
        "               sum([normal(500,200,listaRandom) for _ in range(ITERACIONES)])/ITERACIONES,\n",
        "               sum(uniforme(200,8440,ITERACIONES))/ITERACIONES\n",
        "               \n",
        "]\n",
        "print('Valor presente neto: ')\n",
        "VPN(INVERSION,FLUJO_DE_CAJA,INTERES)"
      ],
      "execution_count": null,
      "outputs": []
    },
    {
      "cell_type": "markdown",
      "metadata": {
        "id": "PY0l3t1u6Go4",
        "colab_type": "text"
      },
      "source": [
        "#### Proyecto Centro Comercial"
      ]
    },
    {
      "cell_type": "code",
      "metadata": {
        "id": "oKeBojFp6J7N",
        "colab_type": "code",
        "colab": {}
      },
      "source": [
        "ITERACIONES=100\n",
        "INVERSION=900\n",
        "INTERES=0.1\n",
        "seed=int(time.time())\n",
        "listaRandom=mi_pseudo2(xo=seed,n=ITERACIONES*100)\n",
        "FLUJO_DE_CAJA=[\n",
        "               sum([normal(-600,50,listaRandom) for _ in range(ITERACIONES)])/ITERACIONES,\n",
        "               sum([normal(-200,50,listaRandom) for _ in range(ITERACIONES)])/ITERACIONES,\n",
        "               sum([normal(-600,100,listaRandom) for _ in range(ITERACIONES)])/ITERACIONES,\n",
        "               sum([normal(250,150,listaRandom) for _ in range(ITERACIONES)])/ITERACIONES,\n",
        "               sum([normal(350,150,listaRandom) for _ in range(ITERACIONES)])/ITERACIONES,\n",
        "               sum([normal(400,150,listaRandom) for _ in range(ITERACIONES)])/ITERACIONES,\n",
        "               sum(uniforme(1600,6000,ITERACIONES))/ITERACIONES\n",
        "               \n",
        "]\n",
        "print('Valor presente neto: ')\n",
        "VPN(INVERSION,FLUJO_DE_CAJA,INTERES)"
      ],
      "execution_count": null,
      "outputs": []
    },
    {
      "cell_type": "markdown",
      "metadata": {
        "colab_type": "text",
        "id": "GvxU4rKm_QYG"
      },
      "source": [
        "### Simulación 1000 iteraciones "
      ]
    },
    {
      "cell_type": "markdown",
      "metadata": {
        "colab_type": "text",
        "id": "tUs34fSd_QYH"
      },
      "source": [
        "#### Proyecto Hotel"
      ]
    },
    {
      "cell_type": "code",
      "metadata": {
        "colab_type": "code",
        "id": "_5S-0QGG_QYI",
        "colab": {}
      },
      "source": [
        "ITERACIONES=1000\n",
        "INVERSION=800\n",
        "INTERES=0.1\n",
        "seed=int(time.time())\n",
        "listaRandom=mi_pseudo2(xo=seed,n=ITERACIONES*100)\n",
        "FLUJO_DE_CAJA=[\n",
        "               sum([normal(-800,50,listaRandom) for _ in range(ITERACIONES)])/ITERACIONES,\n",
        "               sum([normal(-800,100,listaRandom) for _ in range(ITERACIONES)])/ITERACIONES,\n",
        "               sum([normal(-700,150,listaRandom) for _ in range(ITERACIONES)])/ITERACIONES,\n",
        "               sum([normal(300,200,listaRandom) for _ in range(ITERACIONES)])/ITERACIONES,\n",
        "               sum([normal(400,200,listaRandom) for _ in range(ITERACIONES)])/ITERACIONES,\n",
        "               sum([normal(500,200,listaRandom) for _ in range(ITERACIONES)])/ITERACIONES,\n",
        "               sum(uniforme(200,8440,ITERACIONES))/ITERACIONES\n",
        "               \n",
        "]\n",
        "print('Valor presente neto: ')\n",
        "VPN(INVERSION,FLUJO_DE_CAJA,INTERES)"
      ],
      "execution_count": null,
      "outputs": []
    },
    {
      "cell_type": "markdown",
      "metadata": {
        "colab_type": "text",
        "id": "G25rLAne_QYM"
      },
      "source": [
        "#### Proyecto Centro Comercial"
      ]
    },
    {
      "cell_type": "code",
      "metadata": {
        "colab_type": "code",
        "id": "qcfcLHR8_QYM",
        "colab": {}
      },
      "source": [
        "ITERACIONES=1000\n",
        "INVERSION=900\n",
        "INTERES=0.1\n",
        "seed=int(time.time())\n",
        "listaRandom=mi_pseudo2(xo=seed,n=ITERACIONES*100)\n",
        "FLUJO_DE_CAJA=[\n",
        "               sum([normal(-600,50,listaRandom) for _ in range(ITERACIONES)])/ITERACIONES,\n",
        "               sum([normal(-200,50,listaRandom) for _ in range(ITERACIONES)])/ITERACIONES,\n",
        "               sum([normal(-600,100,listaRandom) for _ in range(ITERACIONES)])/ITERACIONES,\n",
        "               sum([normal(250,150,listaRandom) for _ in range(ITERACIONES)])/ITERACIONES,\n",
        "               sum([normal(350,150,listaRandom) for _ in range(ITERACIONES)])/ITERACIONES,\n",
        "               sum([normal(400,150,listaRandom) for _ in range(ITERACIONES)])/ITERACIONES,\n",
        "               sum(uniforme(1600,6000,ITERACIONES))/ITERACIONES\n",
        "               \n",
        "]\n",
        "print('Valor presente neto: ')\n",
        "VPN(INVERSION,FLUJO_DE_CAJA,INTERES)"
      ],
      "execution_count": null,
      "outputs": []
    },
    {
      "cell_type": "markdown",
      "metadata": {
        "colab_type": "text",
        "id": "o4ysxixa_piB"
      },
      "source": [
        "### Simulación 10000 iteraciones "
      ]
    },
    {
      "cell_type": "markdown",
      "metadata": {
        "colab_type": "text",
        "id": "8HDhlQml_piB"
      },
      "source": [
        "#### Proyecto Hotel"
      ]
    },
    {
      "cell_type": "code",
      "metadata": {
        "colab_type": "code",
        "id": "LEYQp8xM_piC",
        "colab": {}
      },
      "source": [
        "ITERACIONES=10000\n",
        "INVERSION=800\n",
        "INTERES=0.1\n",
        "seed=int(time.time())\n",
        "listaRandom=mi_pseudo2(xo=seed,n=ITERACIONES*100)\n",
        "FLUJO_DE_CAJA=[\n",
        "               sum([normal(-800,50,listaRandom) for _ in range(ITERACIONES)])/ITERACIONES,\n",
        "               sum([normal(-800,100,listaRandom) for _ in range(ITERACIONES)])/ITERACIONES,\n",
        "               sum([normal(-700,150,listaRandom) for _ in range(ITERACIONES)])/ITERACIONES,\n",
        "               sum([normal(300,200,listaRandom) for _ in range(ITERACIONES)])/ITERACIONES,\n",
        "               sum([normal(400,200,listaRandom) for _ in range(ITERACIONES)])/ITERACIONES,\n",
        "               sum([normal(500,200,listaRandom) for _ in range(ITERACIONES)])/ITERACIONES,\n",
        "               sum(uniforme(200,8440,ITERACIONES))/ITERACIONES\n",
        "               \n",
        "]\n",
        "print('Valor presente neto: ')\n",
        "VPN(INVERSION,FLUJO_DE_CAJA,INTERES)"
      ],
      "execution_count": null,
      "outputs": []
    },
    {
      "cell_type": "markdown",
      "metadata": {
        "colab_type": "text",
        "id": "I7w1PHNr_piH"
      },
      "source": [
        "#### Proyecto Centro Comercial"
      ]
    },
    {
      "cell_type": "code",
      "metadata": {
        "colab_type": "code",
        "id": "vQL0Hbah_piI",
        "colab": {}
      },
      "source": [
        "ITERACIONES=10000\n",
        "INVERSION=900\n",
        "INTERES=0.1\n",
        "seed=int(time.time())\n",
        "listaRandom=mi_pseudo2(xo=seed,n=ITERACIONES*100)\n",
        "FLUJO_DE_CAJA=[\n",
        "               sum([normal(-600,50,listaRandom) for _ in range(ITERACIONES)])/ITERACIONES,\n",
        "               sum([normal(-200,50,listaRandom) for _ in range(ITERACIONES)])/ITERACIONES,\n",
        "               sum([normal(-600,100,listaRandom) for _ in range(ITERACIONES)])/ITERACIONES,\n",
        "               sum([normal(250,150,listaRandom) for _ in range(ITERACIONES)])/ITERACIONES,\n",
        "               sum([normal(350,150,listaRandom) for _ in range(ITERACIONES)])/ITERACIONES,\n",
        "               sum([normal(400,150,listaRandom) for _ in range(ITERACIONES)])/ITERACIONES,\n",
        "               sum(uniforme(1600,6000,ITERACIONES))/ITERACIONES\n",
        "               \n",
        "]\n",
        "print('Valor presente neto: ')\n",
        "VPN(INVERSION,FLUJO_DE_CAJA,INTERES)"
      ],
      "execution_count": null,
      "outputs": []
    },
    {
      "cell_type": "markdown",
      "metadata": {
        "id": "cXLXoH7NAXVJ",
        "colab_type": "text"
      },
      "source": [
        "### Interpretación \n",
        "Podemos notar que, en las tres simulaciones realizadas, siempre el proyecto del centro comercial tuvo un valor presente neto mayor. Esto quiere decir que este proyecto es el mejor para invertir ya que nos generará mayor utilidad que el proyecto del hotel. "
      ]
    },
    {
      "cell_type": "markdown",
      "metadata": {
        "id": "r3hKJcb8ZP9x",
        "colab_type": "text"
      },
      "source": [
        "## Ejercicio 4 - Repartidos de periódicos"
      ]
    },
    {
      "cell_type": "markdown",
      "metadata": {
        "id": "dF16C0btI4ux",
        "colab_type": "text"
      },
      "source": [
        "Definimos funciones y variables que nos ayudarán con los resultados.\n"
      ]
    },
    {
      "cell_type": "code",
      "metadata": {
        "id": "8IVx4h6FI-g6",
        "colab_type": "code",
        "colab": {}
      },
      "source": [
        "# valores constantes\n",
        "precioVenta = 2.5\n",
        "precioOriginal = 1.5\n",
        "precioReembolso = 0.5\n",
        "nombres = ['Compra nueve', 'Compra diez', 'Compra once']\n",
        "\n",
        "# Variables calculadas\n",
        "ganancia = precioVenta - precioOriginal\n",
        "perdida = precioOriginal - precioReembolso\n",
        "\n",
        "def PidenNueve():\n",
        "  global nueve, diez, once\n",
        "  nueve += ganancia*9\n",
        "  diez += (ganancia*9) - perdida\n",
        "  once += (ganancia*9) - perdida*2\n",
        "\n",
        "def PidenDiez():\n",
        "  global nueve, diez, once\n",
        "  nueve += ganancia*9\n",
        "  diez += ganancia*10\n",
        "  once += (ganancia*10) - perdida\n",
        "\n",
        "def PidenOnce():\n",
        "  global nueve, diez, once\n",
        "  nueve += ganancia*9\n",
        "  diez += ganancia*10\n",
        "  once += ganancia*11\n",
        "\n",
        "def autolabel(rects):\n",
        "    for rect in rects:\n",
        "        height = rect.get_height()\n",
        "        ax.text(rect.get_x() + rect.get_width()/2., 1.05*height,\n",
        "                '%d' % int(height),\n",
        "                ha='center', va='bottom')"
      ],
      "execution_count": null,
      "outputs": []
    },
    {
      "cell_type": "markdown",
      "metadata": {
        "id": "auGV4eQWN7RM",
        "colab_type": "text"
      },
      "source": [
        "### Predicción 1 mes"
      ]
    },
    {
      "cell_type": "code",
      "metadata": {
        "id": "Vadlj-tsLPgJ",
        "colab_type": "code",
        "colab": {}
      },
      "source": [
        "# acumulación de ventas\n",
        "nueve = 0\n",
        "diez = 0\n",
        "once = 0\n",
        "\n",
        "for i in range(30):\n",
        "  prob = random.random()\n",
        "\n",
        "  if prob <= 0.3:\n",
        "    PidenNueve()\n",
        "  elif 0.3 < prob <= 0.7:\n",
        "    PidenDiez()\n",
        "  else:\n",
        "    PidenOnce()\n",
        "  \n",
        "# Arreglo de ganancias mensuales:\n",
        "gananciasMensuales = [nueve, diez, once]"
      ],
      "execution_count": null,
      "outputs": []
    },
    {
      "cell_type": "markdown",
      "metadata": {
        "id": "-Vr30zGtX7iA",
        "colab_type": "text"
      },
      "source": [
        "Imprimimos totales"
      ]
    },
    {
      "cell_type": "code",
      "metadata": {
        "id": "t5lyITjdX7oC",
        "colab_type": "code",
        "colab": {}
      },
      "source": [
        "totales = f\"\"\"\n",
        "Total de ganancias con nueve periódicos: {gananciasMensuales[0]}\n",
        "Total de ganancias con diez periódicos: {gananciasMensuales[1]}\n",
        "Total de ganancias con once periódicos: {gananciasMensuales[2]}\n",
        "\"\"\"\n",
        "\n",
        "print(totales)"
      ],
      "execution_count": null,
      "outputs": []
    },
    {
      "cell_type": "markdown",
      "metadata": {
        "id": "Jje40UU5QTUj",
        "colab_type": "text"
      },
      "source": [
        "Para ver mejor los resultados, haremos un gráfico."
      ]
    },
    {
      "cell_type": "code",
      "metadata": {
        "id": "GYA71dS6OohG",
        "colab_type": "code",
        "colab": {}
      },
      "source": [
        "fig, ax = plt.subplots()\n",
        "barplot = plt.bar(nombres, gananciasMensuales, width=0.5)\n",
        "altura = max(gananciasMensuales)*1.2\n",
        "\n",
        "plt.title('Ganancias en un mes')\n",
        "plt.xlabel('Cant. periódicos')\n",
        "plt.ylabel('Dólares')\n",
        "ax.set_ylim(0,altura)\n",
        "autolabel(barplot)\n",
        "plt.show()"
      ],
      "execution_count": null,
      "outputs": []
    },
    {
      "cell_type": "markdown",
      "metadata": {
        "id": "M6vEH9PoTsXC",
        "colab_type": "text"
      },
      "source": [
        "### Predicción 1 año\n"
      ]
    },
    {
      "cell_type": "code",
      "metadata": {
        "id": "rKO-DXvoTyPx",
        "colab_type": "code",
        "colab": {}
      },
      "source": [
        "# acumulación de ventas\n",
        "nueve = 0\n",
        "diez = 0\n",
        "once = 0\n",
        "for i in range(365):\n",
        "  prob = random.random()\n",
        "\n",
        "  if prob <= 0.3:\n",
        "    PidenNueve()\n",
        "  elif 0.3 < prob <= 0.7:\n",
        "    PidenDiez()\n",
        "  else:\n",
        "    PidenOnce()\n",
        "  \n",
        "# Arreglo de ganancias mensuales:\n",
        "gananciasAnuales = [nueve, diez, once]"
      ],
      "execution_count": null,
      "outputs": []
    },
    {
      "cell_type": "markdown",
      "metadata": {
        "id": "JOjAkB5XXc5a",
        "colab_type": "text"
      },
      "source": [
        "Imprimimos totales"
      ]
    },
    {
      "cell_type": "code",
      "metadata": {
        "id": "33Mfs1fZXe5-",
        "colab_type": "code",
        "colab": {}
      },
      "source": [
        "totales = f\"\"\"\n",
        "Total de ganancias con nueve periódicos: {gananciasAnuales[0]}\n",
        "Total de ganancias con diez periódicos: {gananciasAnuales[1]}\n",
        "Total de ganancias con once periódicos: {gananciasAnuales[2]}\n",
        "\"\"\"\n",
        "\n",
        "print(totales)"
      ],
      "execution_count": null,
      "outputs": []
    },
    {
      "cell_type": "markdown",
      "metadata": {
        "id": "6_-VI_JfW-Sq",
        "colab_type": "text"
      },
      "source": [
        "Gráfico para mejor visualización de resultados"
      ]
    },
    {
      "cell_type": "code",
      "metadata": {
        "id": "hBsy2kk2T1AR",
        "colab_type": "code",
        "colab": {}
      },
      "source": [
        "fig, ax = plt.subplots()\n",
        "barplot = plt.bar(nombres, gananciasAnuales, width=0.5)\n",
        "altura = max(gananciasAnuales)*1.2\n",
        "\n",
        "plt.title('Ganancias en un año')\n",
        "plt.xlabel('Cant. periódicos')\n",
        "plt.ylabel('Dólares')\n",
        "ax.set_ylim(0,altura)\n",
        "autolabel(barplot)\n",
        "plt.show()"
      ],
      "execution_count": null,
      "outputs": []
    },
    {
      "cell_type": "markdown",
      "metadata": {
        "id": "DRZM6KqLUbOE",
        "colab_type": "text"
      },
      "source": [
        "### Predicción 10 años"
      ]
    },
    {
      "cell_type": "code",
      "metadata": {
        "id": "zpVYrgu0Uhoe",
        "colab_type": "code",
        "colab": {}
      },
      "source": [
        "for i in range(365*10):\n",
        "  prob = random.random()\n",
        "\n",
        "  if prob <= 0.3:\n",
        "    PidenNueve()\n",
        "  elif 0.3 < prob <= 0.7:\n",
        "    PidenDiez()\n",
        "  else:\n",
        "    PidenOnce()\n",
        "  \n",
        "# Arreglo de ganancias mensuales:\n",
        "gananciasDecada = [nueve, diez, once]"
      ],
      "execution_count": null,
      "outputs": []
    },
    {
      "cell_type": "markdown",
      "metadata": {
        "id": "F8iWloElXyA7",
        "colab_type": "text"
      },
      "source": [
        "Imprimimos totales"
      ]
    },
    {
      "cell_type": "code",
      "metadata": {
        "id": "OXQQw-JqXytI",
        "colab_type": "code",
        "colab": {}
      },
      "source": [
        "totales = f\"\"\"\n",
        "Total de ganancias con nueve periódicos: {gananciasDecada[0]}\n",
        "Total de ganancias con diez periódicos: {gananciasDecada[1]}\n",
        "Total de ganancias con once periódicos: {gananciasDecada[2]}\n",
        "\"\"\"\n",
        "\n",
        "print(totales)"
      ],
      "execution_count": null,
      "outputs": []
    },
    {
      "cell_type": "markdown",
      "metadata": {
        "id": "jdelQT0QX2TS",
        "colab_type": "text"
      },
      "source": [
        "Gráfico para mejor visualización de datos"
      ]
    },
    {
      "cell_type": "code",
      "metadata": {
        "id": "CFTRw9CuUnqq",
        "colab_type": "code",
        "colab": {}
      },
      "source": [
        "fig, ax = plt.subplots()\n",
        "barplot = plt.bar(nombres, gananciasDecada, width=0.5)\n",
        "altura = max(gananciasDecada)*1.2\n",
        "\n",
        "plt.title('Ganancias en diez años')\n",
        "plt.xlabel('Cant. periódicos')\n",
        "plt.ylabel('Dólares')\n",
        "ax.set_ylim(0,altura)\n",
        "autolabel(barplot)\n",
        "plt.show()"
      ],
      "execution_count": null,
      "outputs": []
    },
    {
      "cell_type": "markdown",
      "metadata": {
        "id": "WobJ-YvOU-Og",
        "colab_type": "text"
      },
      "source": [
        "### Análisis:\n",
        "\n",
        "Para cada una de las predicciones, podemos notar en los gráficos que la mayor ganacia se obtiene comprando 10 periódicos. Esto se debe a que la probabilidad que compren 10 periódicos es levemente mayor a que compren otra cantidad. De hecho, en todas las gráficas se observa una diferencia de ganancia mínima cuando se compran 9 u 11 periódicos, dado que la probabilidad que compren estas cantidades es la misma; esto hace ambas opciones igual de viables."
      ]
    },
    {
      "cell_type": "markdown",
      "metadata": {
        "id": "XLjGjexEbpaq",
        "colab_type": "text"
      },
      "source": [
        "### Conclusión:\n",
        "\n",
        "La cantidad que más conviene comprar todos los días es de **10 periódicos**."
      ]
    }
  ]
}